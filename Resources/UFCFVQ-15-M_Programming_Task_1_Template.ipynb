{
 "cells": [
  {
   "cell_type": "markdown",
   "metadata": {
    "deletable": false
   },
   "source": [
    "# UFCFVQ-15-M Programming for Data Science (Autumn 2023)\n"
   ]
  },
  {
   "cell_type": "markdown",
   "metadata": {},
   "source": [
    "## Student Id:"
   ]
  },
  {
   "cell_type": "markdown",
   "metadata": {
    "deletable": false
   },
   "source": [
    "# Programming Task 1"
   ]
  },
  {
   "cell_type": "markdown",
   "metadata": {
    "deletable": false
   },
   "source": [
    "### Requirement FR1 - Develop a function to read a single column from a CSV file"
   ]
  },
  {
   "cell_type": "code",
   "execution_count": null,
   "metadata": {
    "deletable": false
   },
   "outputs": [],
   "source": [
    "import csv\n",
    "\n",
    "# Functional Requirement #1\n",
    "# This function takes two arguments: 'file_path' for the CSV file and 'column_index'\n",
    "# for the index of the column that needs to be extracted. It uses the csv module to \n",
    "# work with CSV files. The function returns two values: 'column_name' and 'column_data'.\n",
    "\n",
    "def extract_column_data(file_path, column_index):\n",
    "    # Open the CSV file with utf-8-sig encoding to handle potential BOM (Byte Order Mark) issues\n",
    "    with open(file_path, 'r', encoding='utf-8-sig') as csv_file:\n",
    "        csv_reader = csv.reader(csv_file)\n",
    "        \n",
    "        # Extract the header row\n",
    "        header_row = next(csv_reader)\n",
    "        \n",
    "        # Get the column name based on the provided column index\n",
    "        column_name = header_row[column_index]\n",
    "        \n",
    "        # Extract column data using a list comprehension\n",
    "        column_data = [row[column_index] for row in csv_reader]\n",
    "    \n",
    "    return column_name, column_data\n"
   ]
  },
  {
   "cell_type": "markdown",
   "metadata": {
    "deletable": false
   },
   "source": [
    "### Requirement FR2 - Develop a function to read CSV data from a file into memory"
   ]
  },
  {
   "cell_type": "code",
   "execution_count": null,
   "metadata": {
    "deletable": false
   },
   "outputs": [],
   "source": [
    "import csv\n",
    "\n",
    "# Functional Requirement #2\n",
    "# This function uses a dictionary (key, value) to extract data from the file and \n",
    "# store it into a dictionary. It relies on the previous function extract_column_data() \n",
    "# to get column data and stores it in the following format: {'key': ['list_of_data']}\n",
    "\n",
    "def read_csv_into_dict(file_path):\n",
    "    data_dict = {}\n",
    "    \n",
    "    with open(file_path, 'r') as csv_file:\n",
    "        csv_reader = csv.reader(csv_file)\n",
    "        \n",
    "        # Extract the header row\n",
    "        header_row = next(csv_reader)\n",
    "        \n",
    "        # Iterate over all columns in the CSV file\n",
    "        for column_index in range(len(header_row)):\n",
    "            # Use extract_column_data() to get column name and data\n",
    "            column_name, column_data = extract_column_data(file_path, column_index)\n",
    "            \n",
    "            # Store column data in the dictionary\n",
    "            data_dict[column_name] = column_data\n",
    "            \n",
    "    return data_dict\n"
   ]
  },
  {
   "cell_type": "markdown",
   "metadata": {
    "deletable": false
   },
   "source": [
    "### Requirement FR3 - Develop a function to calculate the Kendall Tau Correlation Coefficient for two lists of data"
   ]
  },
  {
   "cell_type": "code",
   "execution_count": null,
   "metadata": {
    "deletable": false
   },
   "outputs": [],
   "source": [
    "# Functional Requirement #3\n",
    "# To measure the strength of correlation between two variables, Kendall's correlation\n",
    "# is used. Kendall's correlation coefficients are rank-based and are also known as \n",
    "# non-parametric correlation. This correlation calculates concordant and discordant pairs.\n",
    "\n",
    "def kendall_tau_coefficient(list_a, list_b):\n",
    "    if len(list_a) != len(list_b):\n",
    "        raise ValueError(\"Lists must be of equal length.\")\n",
    "    \n",
    "    concordant_pairs = discordant_pairs = 0\n",
    "    \n",
    "    for i in range(len(list_a)):\n",
    "        for j in range(i+1, len(list_a)):\n",
    "            # Find concordant pairs\n",
    "            if (list_a[i] < list_a[j] and list_b[i] < list_b[j]) or (list_a[i] > list_a[j] and list_b[i] > list_b[j]):\n",
    "                concordant_pairs += 1\n",
    "            # Find discordant pairs\n",
    "            elif (list_a[i] < list_a[j] and list_b[i] > list_b[j]) or (list_a[i] > list_a[j] and list_b[i] < list_b[j]):\n",
    "                discordant_pairs += 1\n",
    "    \n",
    "    # Calculate the coefficient\n",
    "    coefficient = (concordant_pairs - discordant_pairs) / ((concordant_pairs + discordant_pairs) * 0.5)\n",
    "    \n",
    "    return coefficient\n"
   ]
  },
  {
   "cell_type": "markdown",
   "metadata": {
    "deletable": false
   },
   "source": [
    "### Requirement FR4 - Develop a function to generate a set of Kendall Tau Correlation Coefficients for a data structure like the one generated in FR2"
   ]
  },
  {
   "cell_type": "code",
   "execution_count": null,
   "metadata": {
    "deletable": false
   },
   "outputs": [],
   "source": [
    "# Functional Requirement #4\n",
    "# This function takes the help from the previous function read_csv_into_dict(),\n",
    "# using it as an argument to generate pairs of Kendall Tau coefficients. For example,\n",
    "# [('Cancer', 'Cardiovascular', 0.75), ('Cancer', 'Stroke', 0.60)] and so on.\n",
    "# Returns the coefficients pairs as a list of tuples containing column pairs and coefficients.\n",
    "\n",
    "def generate_kendall_coefficients(data_dict):\n",
    "    coefficients_list = []\n",
    "    \n",
    "    columns = list(data_dict.keys())\n",
    "    \n",
    "    # Nested loop to generate pairs of columns\n",
    "    for i in range(len(columns)):\n",
    "        for j in range(i+1, len(columns)):\n",
    "            # Calculate Kendall Tau coefficient for the pair of columns\n",
    "            coefficient = kendall_tau_coefficient(data_dict[columns[i]], data_dict[columns[j]])\n",
    "            coefficients_list.append((columns[i], columns[j], coefficient))\n",
    "    \n",
    "    return coefficients_list\n"
   ]
  },
  {
   "cell_type": "markdown",
   "metadata": {
    "deletable": false
   },
   "source": [
    "### Requirement FR5 - Develop a function to print a custom table for selected data from a data structure like the one generated in FR4"
   ]
  },
  {
   "cell_type": "code",
   "execution_count": null,
   "metadata": {
    "deletable": false
   },
   "outputs": [],
   "source": [
    "# Functional Requirement #5\n",
    "# This function prints the correlation in a grid format with a default border character '*',\n",
    "# which can be replaced as an argument. Similarly, the column value can be None to display\n",
    "# all dependencies, or a list to display only the specified columns.\n",
    "\n",
    "def display_custom_table(list_of_pairs, border_char='*', columns=None):\n",
    "    column_names = list({pair[0] for pair in list_of_pairs})\n",
    "    \n",
    "    # Print header (empty space) row\n",
    "    print(f\"{'':<15}\", end=' ')\n",
    "    \n",
    "    # Print all column categories\n",
    "    for col in column_names:\n",
    "        print(f\"{col:>15}\", end=' ')\n",
    "        \n",
    "    print()\n",
    "\n",
    "    # Print border row\n",
    "    for _ in range(len(column_names) + 1):\n",
    "        print(f\"{border_char*15:>15}\", end=' ')\n",
    "    \n",
    "    print()\n",
    "\n",
    "    for row in column_names:\n",
    "        if columns is None or row in columns:\n",
    "            print(f\"{row:<15}\", end=' ')\n",
    "        else:\n",
    "            continue\n",
    "        \n",
    "        for col in column_names:\n",
    "            if row == col:\n",
    "                print(\" \"*15, end=' ')\n",
    "            else:\n",
    "                # Get coefficient value from the list_of_pairs\n",
    "                coefficient = next((pair[2] for pair in list_of_pairs if pair[0] == row and pair[1] == col), None)\n",
    "                if columns is not None:\n",
    "                    coefficient = next((pair[2] for pair in list_of_pairs if pair[0] == row and pair[1] == col and row in columns), None)                \n",
    "                if coefficient is not None:\n",
    "                    print(f\"{coefficient:>15.4f}\", end=' ')\n",
    "                else:\n",
    "                    print(\" \"*15, end=' ')\n",
    "        print()\n",
    "\n",
    "    # Print border row\n",
    "    for _ in range(len(column_names) + 1):\n",
    "        print(f\"{border_char*15:>15}\", end=' ')\n"
   ]
  }
 ],
 "metadata": {
  "kernelspec": {
   "display_name": "Python 3 (ipykernel)",
   "language": "python",
   "name": "python3"
  },
  "language_info": {
   "codemirror_mode": {
    "name": "ipython",
    "version": 3
   },
   "file_extension": ".py",
   "mimetype": "text/x-python",
   "name": "python",
   "nbconvert_exporter": "python",
   "pygments_lexer": "ipython3",
   "version": "3.11.5"
  }
 },
 "nbformat": 4,
 "nbformat_minor": 4
}
