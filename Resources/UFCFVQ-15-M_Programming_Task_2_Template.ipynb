{
 "cells": [
  {
   "cell_type": "markdown",
   "metadata": {
    "deletable": false
   },
   "source": [
    "# UFCFVQ-15-M Programming for Data Science (Autumn 2023)"
   ]
  },
  {
   "cell_type": "markdown",
   "metadata": {},
   "source": [
    "## Student Id: "
   ]
  },
  {
   "cell_type": "markdown",
   "metadata": {},
   "source": [
    "# Programming Task 2"
   ]
  },
  {
   "cell_type": "markdown",
   "metadata": {
    "deletable": false
   },
   "source": [
    "### Requirement FR6 - Read CSV data from two files and merge it into a single Data Frame "
   ]
  },
  {
   "cell_type": "code",
   "execution_count": null,
   "metadata": {
    "deletable": false
   },
   "outputs": [],
   "source": [
    "# Functional Requirement #6\n",
    "# Using the Pandas library to read and merge both CSV files into one based on 'Entity' and 'Year'.\n",
    "import pandas as pd\n",
    "\n",
    "def merge_csv_files(file_path1, file_path2):\n",
    "    # Read the first CSV file into a Pandas DataFrame\n",
    "    data_file1 = pd.read_csv(file_path1)\n",
    "    \n",
    "    # Read the second CSV file into another Pandas DataFrame\n",
    "    data_file2 = pd.read_csv(file_path2)\n",
    "    \n",
    "    # Merge the two DataFrames based on 'Entity' and 'Year'\n",
    "    merged_data_file = pd.merge(data_file1, data_file2, on=['Entity', 'Year'])\n",
    "    \n",
    "    return merged_data_file\n",
    "\n",
    "# Test Functional Requirement #6\n",
    "merged_data = merge_csv_files('task2a.csv', 'task2b.csv')\n",
    "print(merged_data.head())\n"
   ]
  },
  {
   "cell_type": "markdown",
   "metadata": {
    "deletable": false
   },
   "source": [
    "### Requirement FR7 - Explore the dataset to identify an \"interesting\" pattern or trend"
   ]
  },
  {
   "cell_type": "code",
   "execution_count": null,
   "metadata": {
    "deletable": false
   },
   "outputs": [],
   "source": [
    "# Functional Requirement #7\n",
    "# Using both Matplotlib and Seaborn for plotting different types of visualizations\n",
    "# (line plot, heatmap, and boxplot).\n",
    "\n",
    "import matplotlib.pyplot as plt\n",
    "import seaborn as sns\n",
    "\n",
    "# Visualization 1: Line plot for Schizophrenia (%) over the years\n",
    "plt.figure(figsize=(10, 6))\n",
    "sns.lineplot(x='Year', y='Schizophrenia (%)', hue='Entity', data=merged_data)\n",
    "plt.title('Line Plot: Schizophrenia (%) Over the Years')\n",
    "plt.show()\n",
    "\n",
    "# Visualization 2: Correlation heatmap\n",
    "# Selecting only numeric columns for correlation\n",
    "numeric_columns = merged_data.select_dtypes(include=['float64', 'int64']).columns\n",
    "\n",
    "# Creating a correlation matrix\n",
    "correlation_matrix = merged_data[numeric_columns].corr()\n",
    "\n",
    "# Plotting the heatmap\n",
    "plt.figure(figsize=(10, 6))\n",
    "sns.heatmap(correlation_matrix, annot=True, cmap='coolwarm')\n",
    "plt.title('Correlation Heatmap')\n",
    "plt.show()\n",
    "\n",
    "# Visualization 3: Boxplot for Drug use disorders (%)\n",
    "plt.figure(figsize=(10, 6))\n",
    "sns.boxplot(x='Entity', y='Drug use disorders (%)', data=merged_data)\n",
    "plt.title('Boxplot: Distribution of Drug use disorders (%)')\n",
    "plt.xticks(rotation=45, ha='right')\n",
    "plt.show()\n"
   ]
  },
  {
   "cell_type": "markdown",
   "metadata": {
    "deletable": false
   },
   "source": [
    "### Requirement FR8 - Detect and remove any outliers in the data used for your \"interesting\" pattern or trend"
   ]
  },
  {
   "cell_type": "code",
   "execution_count": null,
   "metadata": {
    "deletable": false
   },
   "outputs": [],
   "source": [
    "from scipy.stats import zscore\n",
    "\n",
    "# Data Preprocessing\n",
    "# Use z-score to identify and remove outliers in the dataset. \n",
    "# The binomial distribution helps assess the normalization of \n",
    "# the data distribution. Visualizing the distribution through a \n",
    "# histogram aids in outlier identification. Outliers are determined \n",
    "# based on their z-scores, and the resulting data is filtered accordingly.\n",
    "\n",
    "def remove_outliers(data_frame, column_name):\n",
    "    # Calculate z-scores for the specified column\n",
    "    z_scores = zscore(data_frame[column_name])\n",
    "    \n",
    "    # Identify outliers based on the z-score\n",
    "    outliers = (z_scores > 3) | (z_scores < -3)\n",
    "    \n",
    "    # Remove outliers from the data\n",
    "    data_no_outliers = data_frame[~outliers]\n",
    "    \n",
    "    return data_no_outliers\n",
    "\n",
    "# Test Data Preprocessing\n",
    "# Remove outliers for 'Schizophrenia (%)'\n",
    "merged_data_no_outliers = remove_outliers(merged_data, 'Schizophrenia (%)')\n"
   ]
  },
  {
   "cell_type": "markdown",
   "metadata": {
    "deletable": false
   },
   "source": [
    "### Requirement FR9 - Define a hypothesis to test your “interesting” pattern or trend"
   ]
  },
  {
   "cell_type": "code",
   "execution_count": null,
   "metadata": {
    "deletable": false
   },
   "outputs": [],
   "source": [
    "# Test Hypothesis (FR9)\n",
    "# Hypotheses are used to evaluate the validity of results in a study. \n",
    "# An assumption is made about the potential truth, and statistical analysis \n",
    "# is performed to determine the accuracy of the results.\n",
    "\n",
    "# In this case, we are testing the hypothesis that there is a significant \n",
    "# difference in 'Schizophrenia (%)' between different entities.\n",
    "\n",
    "# Hypothesis:\n",
    "# Null Hypothesis (H0): There is no significant difference in 'Schizophrenia (%)' between different entities.\n",
    "# Alternative Hypothesis (H1): There is a significant difference in 'Schizophrenia (%)' between different entities.\n"
   ]
  },
  {
   "cell_type": "markdown",
   "metadata": {
    "deletable": false
   },
   "source": [
    "### Requirement FR10 - Test your hypothesis with statistical significance level of 0.05"
   ]
  },
  {
   "cell_type": "code",
   "execution_count": null,
   "metadata": {
    "deletable": false
   },
   "outputs": [],
   "source": [
    "# Test Hypothesis (FR10)\n",
    "# Let's test the previously formulated hypothesis using an ANOVA test.\n",
    "\n",
    "from scipy.stats import f_oneway\n",
    "\n",
    "# Grouping data by 'Category' (previously 'Entity'), extracting 'Schizophrenia (%)', and ignoring missing values\n",
    "category_groups = [group[1]['Schizophrenia (%)'].dropna() for group in merged_data.groupby('Category')]\n",
    "\n",
    "# Perform ANOVA test\n",
    "# f_oneway is used for ANOVA test to check if means of groups are equal\n",
    "f_statistic, p_value = f_oneway(*category_groups)\n",
    "\n",
    "print(f'ANOVA F-statistic: {f_statistic}')\n",
    "print(f'ANOVA P-value: {p_value}')\n",
    "\n",
    "# Interpret the result\n",
    "alpha = 0.05\n",
    "if p_value < alpha:\n",
    "    print('Reject the null hypothesis. There is a significant difference in Schizophrenia percentages between categories.')\n",
    "else:\n",
    "    print('Fail to reject the null hypothesis. No significant difference in Schizophrenia percentages between categories.')\n"
   ]
  }
 ],
 "metadata": {
  "kernelspec": {
   "display_name": "Python 3 (ipykernel)",
   "language": "python",
   "name": "python3"
  },
  "language_info": {
   "codemirror_mode": {
    "name": "ipython",
    "version": 3
   },
   "file_extension": ".py",
   "mimetype": "text/x-python",
   "name": "python",
   "nbconvert_exporter": "python",
   "pygments_lexer": "ipython3",
   "version": "3.9.7"
  }
 },
 "nbformat": 4,
 "nbformat_minor": 4
}
